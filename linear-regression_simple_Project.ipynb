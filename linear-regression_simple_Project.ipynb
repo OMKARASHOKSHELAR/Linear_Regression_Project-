{
 "cells": [
  {
   "cell_type": "markdown",
   "id": "64500531",
   "metadata": {},
   "source": [
    "## Importing required Libraries"
   ]
  },
  {
   "cell_type": "code",
   "execution_count": 2,
   "id": "1d61e594",
   "metadata": {
    "execution": {
     "iopub.execute_input": "2023-01-19T10:55:40.703499Z",
     "iopub.status.busy": "2023-01-19T10:55:40.702976Z",
     "iopub.status.idle": "2023-01-19T10:55:42.906184Z",
     "shell.execute_reply": "2023-01-19T10:55:42.904879Z"
    },
    "papermill": {
     "duration": 2.212792,
     "end_time": "2023-01-19T10:55:42.909262",
     "exception": false,
     "start_time": "2023-01-19T10:55:40.696470",
     "status": "completed"
    },
    "tags": []
   },
   "outputs": [],
   "source": [
    "import os\n",
    "import pandas as pd \n",
    "import numpy as np\n",
    "from sklearn.linear_model import LinearRegression\n",
    "from sklearn.preprocessing import StandardScaler\n",
    "from sklearn.metrics import mean_squared_error"
   ]
  },
  {
   "cell_type": "markdown",
   "id": "c8a6948e",
   "metadata": {
    "papermill": {
     "duration": 0.004895,
     "end_time": "2023-01-19T10:55:42.930245",
     "exception": false,
     "start_time": "2023-01-19T10:55:42.925350",
     "status": "completed"
    },
    "tags": []
   },
   "source": [
    "**Before starting with the model let's preprocess our data and visualize it**"
   ]
  },
  {
   "cell_type": "markdown",
   "id": "9f8ddc97",
   "metadata": {},
   "source": [
    "## Data Analysis"
   ]
  },
  {
   "cell_type": "code",
   "execution_count": 3,
   "id": "60fbbb17",
   "metadata": {
    "execution": {
     "iopub.execute_input": "2023-01-19T10:55:42.942812Z",
     "iopub.status.busy": "2023-01-19T10:55:42.941548Z",
     "iopub.status.idle": "2023-01-19T10:55:42.969690Z",
     "shell.execute_reply": "2023-01-19T10:55:42.968240Z"
    },
    "papermill": {
     "duration": 0.037698,
     "end_time": "2023-01-19T10:55:42.972935",
     "exception": false,
     "start_time": "2023-01-19T10:55:42.935237",
     "status": "completed"
    },
    "tags": []
   },
   "outputs": [],
   "source": [
    "train =  pd.read_csv(r\"C:\\Users\\omkar\\Downloads\\train.csv\")\n",
    "test = pd.read_csv(r\"C:\\Users\\omkar\\Downloads\\test.csv\")"
   ]
  },
  {
   "cell_type": "code",
   "execution_count": 4,
   "id": "f44591e8",
   "metadata": {},
   "outputs": [
    {
     "data": {
      "text/html": [
       "<div>\n",
       "<style scoped>\n",
       "    .dataframe tbody tr th:only-of-type {\n",
       "        vertical-align: middle;\n",
       "    }\n",
       "\n",
       "    .dataframe tbody tr th {\n",
       "        vertical-align: top;\n",
       "    }\n",
       "\n",
       "    .dataframe thead th {\n",
       "        text-align: right;\n",
       "    }\n",
       "</style>\n",
       "<table border=\"1\" class=\"dataframe\">\n",
       "  <thead>\n",
       "    <tr style=\"text-align: right;\">\n",
       "      <th></th>\n",
       "      <th>x</th>\n",
       "      <th>y</th>\n",
       "    </tr>\n",
       "  </thead>\n",
       "  <tbody>\n",
       "    <tr>\n",
       "      <th>0</th>\n",
       "      <td>24.0</td>\n",
       "      <td>21.549452</td>\n",
       "    </tr>\n",
       "    <tr>\n",
       "      <th>1</th>\n",
       "      <td>50.0</td>\n",
       "      <td>47.464463</td>\n",
       "    </tr>\n",
       "    <tr>\n",
       "      <th>2</th>\n",
       "      <td>15.0</td>\n",
       "      <td>17.218656</td>\n",
       "    </tr>\n",
       "    <tr>\n",
       "      <th>3</th>\n",
       "      <td>38.0</td>\n",
       "      <td>36.586398</td>\n",
       "    </tr>\n",
       "    <tr>\n",
       "      <th>4</th>\n",
       "      <td>87.0</td>\n",
       "      <td>87.288984</td>\n",
       "    </tr>\n",
       "    <tr>\n",
       "      <th>...</th>\n",
       "      <td>...</td>\n",
       "      <td>...</td>\n",
       "    </tr>\n",
       "    <tr>\n",
       "      <th>695</th>\n",
       "      <td>58.0</td>\n",
       "      <td>58.595006</td>\n",
       "    </tr>\n",
       "    <tr>\n",
       "      <th>696</th>\n",
       "      <td>93.0</td>\n",
       "      <td>94.625094</td>\n",
       "    </tr>\n",
       "    <tr>\n",
       "      <th>697</th>\n",
       "      <td>82.0</td>\n",
       "      <td>88.603770</td>\n",
       "    </tr>\n",
       "    <tr>\n",
       "      <th>698</th>\n",
       "      <td>66.0</td>\n",
       "      <td>63.648685</td>\n",
       "    </tr>\n",
       "    <tr>\n",
       "      <th>699</th>\n",
       "      <td>97.0</td>\n",
       "      <td>94.975266</td>\n",
       "    </tr>\n",
       "  </tbody>\n",
       "</table>\n",
       "<p>700 rows × 2 columns</p>\n",
       "</div>"
      ],
      "text/plain": [
       "        x          y\n",
       "0    24.0  21.549452\n",
       "1    50.0  47.464463\n",
       "2    15.0  17.218656\n",
       "3    38.0  36.586398\n",
       "4    87.0  87.288984\n",
       "..    ...        ...\n",
       "695  58.0  58.595006\n",
       "696  93.0  94.625094\n",
       "697  82.0  88.603770\n",
       "698  66.0  63.648685\n",
       "699  97.0  94.975266\n",
       "\n",
       "[700 rows x 2 columns]"
      ]
     },
     "execution_count": 4,
     "metadata": {},
     "output_type": "execute_result"
    }
   ],
   "source": [
    "train"
   ]
  },
  {
   "cell_type": "code",
   "execution_count": 5,
   "id": "43ac444a",
   "metadata": {},
   "outputs": [
    {
     "data": {
      "text/html": [
       "<div>\n",
       "<style scoped>\n",
       "    .dataframe tbody tr th:only-of-type {\n",
       "        vertical-align: middle;\n",
       "    }\n",
       "\n",
       "    .dataframe tbody tr th {\n",
       "        vertical-align: top;\n",
       "    }\n",
       "\n",
       "    .dataframe thead th {\n",
       "        text-align: right;\n",
       "    }\n",
       "</style>\n",
       "<table border=\"1\" class=\"dataframe\">\n",
       "  <thead>\n",
       "    <tr style=\"text-align: right;\">\n",
       "      <th></th>\n",
       "      <th>x</th>\n",
       "      <th>y</th>\n",
       "    </tr>\n",
       "  </thead>\n",
       "  <tbody>\n",
       "    <tr>\n",
       "      <th>0</th>\n",
       "      <td>77</td>\n",
       "      <td>79.775152</td>\n",
       "    </tr>\n",
       "    <tr>\n",
       "      <th>1</th>\n",
       "      <td>21</td>\n",
       "      <td>23.177279</td>\n",
       "    </tr>\n",
       "    <tr>\n",
       "      <th>2</th>\n",
       "      <td>22</td>\n",
       "      <td>25.609262</td>\n",
       "    </tr>\n",
       "    <tr>\n",
       "      <th>3</th>\n",
       "      <td>20</td>\n",
       "      <td>17.857388</td>\n",
       "    </tr>\n",
       "    <tr>\n",
       "      <th>4</th>\n",
       "      <td>36</td>\n",
       "      <td>41.849864</td>\n",
       "    </tr>\n",
       "    <tr>\n",
       "      <th>...</th>\n",
       "      <td>...</td>\n",
       "      <td>...</td>\n",
       "    </tr>\n",
       "    <tr>\n",
       "      <th>295</th>\n",
       "      <td>71</td>\n",
       "      <td>68.545888</td>\n",
       "    </tr>\n",
       "    <tr>\n",
       "      <th>296</th>\n",
       "      <td>46</td>\n",
       "      <td>47.334876</td>\n",
       "    </tr>\n",
       "    <tr>\n",
       "      <th>297</th>\n",
       "      <td>55</td>\n",
       "      <td>54.090637</td>\n",
       "    </tr>\n",
       "    <tr>\n",
       "      <th>298</th>\n",
       "      <td>62</td>\n",
       "      <td>63.297171</td>\n",
       "    </tr>\n",
       "    <tr>\n",
       "      <th>299</th>\n",
       "      <td>47</td>\n",
       "      <td>52.459467</td>\n",
       "    </tr>\n",
       "  </tbody>\n",
       "</table>\n",
       "<p>300 rows × 2 columns</p>\n",
       "</div>"
      ],
      "text/plain": [
       "      x          y\n",
       "0    77  79.775152\n",
       "1    21  23.177279\n",
       "2    22  25.609262\n",
       "3    20  17.857388\n",
       "4    36  41.849864\n",
       "..   ..        ...\n",
       "295  71  68.545888\n",
       "296  46  47.334876\n",
       "297  55  54.090637\n",
       "298  62  63.297171\n",
       "299  47  52.459467\n",
       "\n",
       "[300 rows x 2 columns]"
      ]
     },
     "execution_count": 5,
     "metadata": {},
     "output_type": "execute_result"
    }
   ],
   "source": [
    "test"
   ]
  },
  {
   "cell_type": "code",
   "execution_count": 6,
   "id": "2eb14446",
   "metadata": {
    "execution": {
     "iopub.execute_input": "2023-01-19T10:55:42.985006Z",
     "iopub.status.busy": "2023-01-19T10:55:42.984631Z",
     "iopub.status.idle": "2023-01-19T10:55:43.004874Z",
     "shell.execute_reply": "2023-01-19T10:55:43.004074Z"
    },
    "papermill": {
     "duration": 0.028622,
     "end_time": "2023-01-19T10:55:43.006908",
     "exception": false,
     "start_time": "2023-01-19T10:55:42.978286",
     "status": "completed"
    },
    "tags": []
   },
   "outputs": [
    {
     "data": {
      "text/html": [
       "<div>\n",
       "<style scoped>\n",
       "    .dataframe tbody tr th:only-of-type {\n",
       "        vertical-align: middle;\n",
       "    }\n",
       "\n",
       "    .dataframe tbody tr th {\n",
       "        vertical-align: top;\n",
       "    }\n",
       "\n",
       "    .dataframe thead th {\n",
       "        text-align: right;\n",
       "    }\n",
       "</style>\n",
       "<table border=\"1\" class=\"dataframe\">\n",
       "  <thead>\n",
       "    <tr style=\"text-align: right;\">\n",
       "      <th></th>\n",
       "      <th>x</th>\n",
       "      <th>y</th>\n",
       "    </tr>\n",
       "  </thead>\n",
       "  <tbody>\n",
       "    <tr>\n",
       "      <th>0</th>\n",
       "      <td>24.0</td>\n",
       "      <td>21.549452</td>\n",
       "    </tr>\n",
       "    <tr>\n",
       "      <th>1</th>\n",
       "      <td>50.0</td>\n",
       "      <td>47.464463</td>\n",
       "    </tr>\n",
       "    <tr>\n",
       "      <th>2</th>\n",
       "      <td>15.0</td>\n",
       "      <td>17.218656</td>\n",
       "    </tr>\n",
       "    <tr>\n",
       "      <th>3</th>\n",
       "      <td>38.0</td>\n",
       "      <td>36.586398</td>\n",
       "    </tr>\n",
       "    <tr>\n",
       "      <th>4</th>\n",
       "      <td>87.0</td>\n",
       "      <td>87.288984</td>\n",
       "    </tr>\n",
       "  </tbody>\n",
       "</table>\n",
       "</div>"
      ],
      "text/plain": [
       "      x          y\n",
       "0  24.0  21.549452\n",
       "1  50.0  47.464463\n",
       "2  15.0  17.218656\n",
       "3  38.0  36.586398\n",
       "4  87.0  87.288984"
      ]
     },
     "execution_count": 6,
     "metadata": {},
     "output_type": "execute_result"
    }
   ],
   "source": [
    "train.head()"
   ]
  },
  {
   "cell_type": "code",
   "execution_count": 7,
   "id": "25c447e0",
   "metadata": {
    "execution": {
     "iopub.execute_input": "2023-01-19T10:55:43.019627Z",
     "iopub.status.busy": "2023-01-19T10:55:43.019244Z",
     "iopub.status.idle": "2023-01-19T10:55:43.027972Z",
     "shell.execute_reply": "2023-01-19T10:55:43.026909Z"
    },
    "papermill": {
     "duration": 0.018166,
     "end_time": "2023-01-19T10:55:43.030684",
     "exception": false,
     "start_time": "2023-01-19T10:55:43.012518",
     "status": "completed"
    },
    "tags": []
   },
   "outputs": [
    {
     "data": {
      "text/plain": [
       "x    0\n",
       "y    1\n",
       "dtype: int64"
      ]
     },
     "execution_count": 7,
     "metadata": {},
     "output_type": "execute_result"
    }
   ],
   "source": [
    "train.isnull().sum() # cheking for null values"
   ]
  },
  {
   "cell_type": "code",
   "execution_count": 8,
   "id": "55b7f96f",
   "metadata": {
    "execution": {
     "iopub.execute_input": "2023-01-19T10:55:43.043361Z",
     "iopub.status.busy": "2023-01-19T10:55:43.042987Z",
     "iopub.status.idle": "2023-01-19T10:55:43.053663Z",
     "shell.execute_reply": "2023-01-19T10:55:43.051866Z"
    },
    "papermill": {
     "duration": 0.0204,
     "end_time": "2023-01-19T10:55:43.056896",
     "exception": false,
     "start_time": "2023-01-19T10:55:43.036496",
     "status": "completed"
    },
    "tags": []
   },
   "outputs": [
    {
     "data": {
      "text/plain": [
       "x    0\n",
       "y    0\n",
       "dtype: int64"
      ]
     },
     "execution_count": 8,
     "metadata": {},
     "output_type": "execute_result"
    }
   ],
   "source": [
    "test.isnull().sum() # cheking for null values"
   ]
  },
  {
   "cell_type": "markdown",
   "id": "2c42f255",
   "metadata": {},
   "source": [
    "## Data Preprocessing"
   ]
  },
  {
   "cell_type": "code",
   "execution_count": 9,
   "id": "20af3d87",
   "metadata": {
    "execution": {
     "iopub.execute_input": "2023-01-19T10:55:43.082270Z",
     "iopub.status.busy": "2023-01-19T10:55:43.081829Z",
     "iopub.status.idle": "2023-01-19T10:55:43.092263Z",
     "shell.execute_reply": "2023-01-19T10:55:43.090558Z"
    },
    "papermill": {
     "duration": 0.019786,
     "end_time": "2023-01-19T10:55:43.094725",
     "exception": false,
     "start_time": "2023-01-19T10:55:43.074939",
     "status": "completed"
    },
    "tags": []
   },
   "outputs": [],
   "source": [
    "#Drop null values\n",
    "train = train.dropna()"
   ]
  },
  {
   "cell_type": "code",
   "execution_count": 10,
   "id": "635bdcfb",
   "metadata": {
    "execution": {
     "iopub.execute_input": "2023-01-19T10:55:43.110406Z",
     "iopub.status.busy": "2023-01-19T10:55:43.109751Z",
     "iopub.status.idle": "2023-01-19T10:55:43.119713Z",
     "shell.execute_reply": "2023-01-19T10:55:43.118765Z"
    },
    "papermill": {
     "duration": 0.020414,
     "end_time": "2023-01-19T10:55:43.122245",
     "exception": false,
     "start_time": "2023-01-19T10:55:43.101831",
     "status": "completed"
    },
    "tags": []
   },
   "outputs": [],
   "source": [
    "#Set training data and targets\n",
    "X_train = train['x']\n",
    "y_train = train['y']\n",
    "\n",
    "#Set testing data and targets\n",
    "X_test = test['x']\n",
    "y_test = test['y']"
   ]
  },
  {
   "cell_type": "code",
   "execution_count": 11,
   "id": "1cb96e21",
   "metadata": {
    "execution": {
     "iopub.execute_input": "2023-01-19T10:55:43.147792Z",
     "iopub.status.busy": "2023-01-19T10:55:43.147361Z",
     "iopub.status.idle": "2023-01-19T10:55:43.152738Z",
     "shell.execute_reply": "2023-01-19T10:55:43.151576Z"
    },
    "papermill": {
     "duration": 0.014374,
     "end_time": "2023-01-19T10:55:43.154793",
     "exception": false,
     "start_time": "2023-01-19T10:55:43.140419",
     "status": "completed"
    },
    "tags": []
   },
   "outputs": [],
   "source": [
    "X_train = X_train.values.reshape(-1, 1)\n",
    "X_test = X_test.values.reshape(-1,1)"
   ]
  },
  {
   "cell_type": "markdown",
   "id": "ef8980b4",
   "metadata": {
    "papermill": {
     "duration": 0.005598,
     "end_time": "2023-01-19T10:55:43.166219",
     "exception": false,
     "start_time": "2023-01-19T10:55:43.160621",
     "status": "completed"
    },
    "tags": []
   },
   "source": [
    "**Now let's scale the data**\n",
    "\n",
    "**Scaling the data helps our model converge faster**"
   ]
  },
  {
   "cell_type": "code",
   "execution_count": 12,
   "id": "9c36a99d",
   "metadata": {
    "execution": {
     "iopub.execute_input": "2023-01-19T10:55:43.179537Z",
     "iopub.status.busy": "2023-01-19T10:55:43.179137Z",
     "iopub.status.idle": "2023-01-19T10:55:43.184894Z",
     "shell.execute_reply": "2023-01-19T10:55:43.184204Z"
    },
    "papermill": {
     "duration": 0.015153,
     "end_time": "2023-01-19T10:55:43.187057",
     "exception": false,
     "start_time": "2023-01-19T10:55:43.171904",
     "status": "completed"
    },
    "tags": []
   },
   "outputs": [
    {
     "name": "stdout",
     "output_type": "stream",
     "text": [
      "Transformation sucessful\n"
     ]
    }
   ],
   "source": [
    "# Create an instance of the StandardScaler\n",
    "scaler = StandardScaler()\n",
    "# Compute the mean and standard deviation of each feature in the training set\n",
    "scaler.fit(X_train)\n",
    "# Standardize the training data using the computed mean and standard deviation\n",
    "X_train = scaler.transform(X_train)\n",
    "# Apply the same transformation to the testing data to maintain consistenc\n",
    "X_test = scaler.transform(X_test)\n",
    "print(\"Transformation sucessful\")"
   ]
  },
  {
   "cell_type": "code",
   "execution_count": 13,
   "id": "5ad0c07e",
   "metadata": {
    "execution": {
     "iopub.execute_input": "2023-01-19T10:55:43.199769Z",
     "iopub.status.busy": "2023-01-19T10:55:43.199396Z",
     "iopub.status.idle": "2023-01-19T10:55:43.206560Z",
     "shell.execute_reply": "2023-01-19T10:55:43.205598Z"
    },
    "papermill": {
     "duration": 0.01638,
     "end_time": "2023-01-19T10:55:43.209004",
     "exception": false,
     "start_time": "2023-01-19T10:55:43.192624",
     "status": "completed"
    },
    "tags": []
   },
   "outputs": [
    {
     "data": {
      "text/plain": [
       "(-1.72857469859145, 1.7275858114641094)"
      ]
     },
     "execution_count": 13,
     "metadata": {},
     "output_type": "execute_result"
    }
   ],
   "source": [
    "X_train.min(),X_train.max()"
   ]
  },
  {
   "cell_type": "markdown",
   "id": "b909a7a6",
   "metadata": {
    "papermill": {
     "duration": 0.005594,
     "end_time": "2023-01-19T10:55:43.220399",
     "exception": false,
     "start_time": "2023-01-19T10:55:43.214805",
     "status": "completed"
    },
    "tags": []
   },
   "source": [
    "## Visualize The Data"
   ]
  },
  {
   "cell_type": "code",
   "execution_count": 14,
   "id": "6fc330e3",
   "metadata": {},
   "outputs": [
    {
     "data": {
      "image/png": "[encoded data removed]",
      "text/plain": [
       "<Figure size 640x480 with 1 Axes>"
      ]
     },
     "metadata": {},
     "output_type": "display_data"
    }
   ],
   "source": [
    "import matplotlib.pyplot as plt\n",
    "\n",
    "# Assuming train is your DataFrame\n",
    "plt.scatter(x=train['x'], y=train['y'])\n",
    "plt.xlabel('x')\n",
    "plt.ylabel('y')\n",
    "plt.title('Scatter Plot of x vs y')\n",
    "plt.grid(True)  # Add grid\n",
    "plt.show()"
   ]
  },
  {
   "cell_type": "markdown",
   "id": "1c38702f",
   "metadata": {},
   "source": [
    "## Model Selection"
   ]
  },
  {
   "cell_type": "code",
   "execution_count": 15,
   "id": "b45e32f3",
   "metadata": {
    "execution": {
     "iopub.execute_input": "2023-01-19T10:55:43.627684Z",
     "iopub.status.busy": "2023-01-19T10:55:43.626992Z",
     "iopub.status.idle": "2023-01-19T10:55:43.661433Z",
     "shell.execute_reply": "2023-01-19T10:55:43.659342Z"
    },
    "papermill": {
     "duration": 0.04579,
     "end_time": "2023-01-19T10:55:43.664480",
     "exception": false,
     "start_time": "2023-01-19T10:55:43.618690",
     "status": "completed"
    },
    "tags": []
   },
   "outputs": [
    {
     "data": {
      "text/html": [
       "<style>#sk-container-id-1 {color: black;}#sk-container-id-1 pre{padding: 0;}#sk-container-id-1 div.sk-toggleable {background-color: white;}#sk-container-id-1 label.sk-toggleable__label {cursor: pointer;display: block;width: 100%;margin-bottom: 0;padding: 0.3em;box-sizing: border-box;text-align: center;}#sk-container-id-1 label.sk-toggleable__label-arrow:before {content: \"▸\";float: left;margin-right: 0.25em;color: #696969;}#sk-container-id-1 label.sk-toggleable__label-arrow:hover:before {color: black;}#sk-container-id-1 div.sk-estimator:hover label.sk-toggleable__label-arrow:before {color: black;}#sk-container-id-1 div.sk-toggleable__content {max-height: 0;max-width: 0;overflow: hidden;text-align: left;background-color: #f0f8ff;}#sk-container-id-1 div.sk-toggleable__content pre {margin: 0.2em;color: black;border-radius: 0.25em;background-color: #f0f8ff;}#sk-container-id-1 input.sk-toggleable__control:checked~div.sk-toggleable__content {max-height: 200px;max-width: 100%;overflow: auto;}#sk-container-id-1 input.sk-toggleable__control:checked~label.sk-toggleable__label-arrow:before {content: \"▾\";}#sk-container-id-1 div.sk-estimator input.sk-toggleable__control:checked~label.sk-toggleable__label {background-color: #d4ebff;}#sk-container-id-1 div.sk-label input.sk-toggleable__control:checked~label.sk-toggleable__label {background-color: #d4ebff;}#sk-container-id-1 input.sk-hidden--visually {border: 0;clip: rect(1px 1px 1px 1px);clip: rect(1px, 1px, 1px, 1px);height: 1px;margin: -1px;overflow: hidden;padding: 0;position: absolute;width: 1px;}#sk-container-id-1 div.sk-estimator {font-family: monospace;background-color: #f0f8ff;border: 1px dotted black;border-radius: 0.25em;box-sizing: border-box;margin-bottom: 0.5em;}#sk-container-id-1 div.sk-estimator:hover {background-color: #d4ebff;}#sk-container-id-1 div.sk-parallel-item::after {content: \"\";width: 100%;border-bottom: 1px solid gray;flex-grow: 1;}#sk-container-id-1 div.sk-label:hover label.sk-toggleable__label {background-color: #d4ebff;}#sk-container-id-1 div.sk-serial::before {content: \"\";position: absolute;border-left: 1px solid gray;box-sizing: border-box;top: 0;bottom: 0;left: 50%;z-index: 0;}#sk-container-id-1 div.sk-serial {display: flex;flex-direction: column;align-items: center;background-color: white;padding-right: 0.2em;padding-left: 0.2em;position: relative;}#sk-container-id-1 div.sk-item {position: relative;z-index: 1;}#sk-container-id-1 div.sk-parallel {display: flex;align-items: stretch;justify-content: center;background-color: white;position: relative;}#sk-container-id-1 div.sk-item::before, #sk-container-id-1 div.sk-parallel-item::before {content: \"\";position: absolute;border-left: 1px solid gray;box-sizing: border-box;top: 0;bottom: 0;left: 50%;z-index: -1;}#sk-container-id-1 div.sk-parallel-item {display: flex;flex-direction: column;z-index: 1;position: relative;background-color: white;}#sk-container-id-1 div.sk-parallel-item:first-child::after {align-self: flex-end;width: 50%;}#sk-container-id-1 div.sk-parallel-item:last-child::after {align-self: flex-start;width: 50%;}#sk-container-id-1 div.sk-parallel-item:only-child::after {width: 0;}#sk-container-id-1 div.sk-dashed-wrapped {border: 1px dashed gray;margin: 0 0.4em 0.5em 0.4em;box-sizing: border-box;padding-bottom: 0.4em;background-color: white;}#sk-container-id-1 div.sk-label label {font-family: monospace;font-weight: bold;display: inline-block;line-height: 1.2em;}#sk-container-id-1 div.sk-label-container {text-align: center;}#sk-container-id-1 div.sk-container {/* jupyter's `normalize.less` sets `[hidden] { display: none; }` but bootstrap.min.css set `[hidden] { display: none !important; }` so we also need the `!important` here to be able to override the default hidden behavior on the sphinx rendered scikit-learn.org. See: https://github.com/scikit-learn/scikit-learn/issues/21755 */display: inline-block !important;position: relative;}#sk-container-id-1 div.sk-text-repr-fallback {display: none;}</style><div id=\"sk-container-id-1\" class=\"sk-top-container\"><div class=\"sk-text-repr-fallback\"><pre>LinearRegression()</pre><b>In a Jupyter environment, please rerun this cell to show the HTML representation or trust the notebook. <br />On GitHub, the HTML representation is unable to render, please try loading this page with nbviewer.org.</b></div><div class=\"sk-container\" hidden><div class=\"sk-item\"><div class=\"sk-estimator sk-toggleable\"><input class=\"sk-toggleable__control sk-hidden--visually\" id=\"sk-estimator-id-1\" type=\"checkbox\" checked><label for=\"sk-estimator-id-1\" class=\"sk-toggleable__label sk-toggleable__label-arrow\">LinearRegression</label><div class=\"sk-toggleable__content\"><pre>LinearRegression()</pre></div></div></div></div></div>"
      ],
      "text/plain": [
       "LinearRegression()"
      ]
     },
     "execution_count": 15,
     "metadata": {},
     "output_type": "execute_result"
    }
   ],
   "source": [
    "model = LinearRegression() #Create linear regression instance\n",
    "\n",
    "model.fit(X_train, y_train) #fit the linear regression model to the training data and labels"
   ]
  },
  {
   "cell_type": "markdown",
   "id": "61194082",
   "metadata": {},
   "source": [
    "## Testing\n",
    "now lets test the result on the test set"
   ]
  },
  {
   "cell_type": "code",
   "execution_count": 16,
   "id": "4f278d7d",
   "metadata": {
    "execution": {
     "iopub.execute_input": "2023-01-19T10:55:43.693762Z",
     "iopub.status.busy": "2023-01-19T10:55:43.693399Z",
     "iopub.status.idle": "2023-01-19T10:55:43.699475Z",
     "shell.execute_reply": "2023-01-19T10:55:43.698499Z"
    },
    "papermill": {
     "duration": 0.016473,
     "end_time": "2023-01-19T10:55:43.701473",
     "exception": false,
     "start_time": "2023-01-19T10:55:43.685000",
     "status": "completed"
    },
    "tags": []
   },
   "outputs": [],
   "source": [
    "predictions = model.predict(X_test)"
   ]
  },
  {
   "cell_type": "code",
   "execution_count": 17,
   "id": "2e3ec0d1",
   "metadata": {},
   "outputs": [
    {
     "data": {
      "text/plain": [
       "array([76.94327594, 20.90651855, 21.90717494, 19.90586217, 35.91636428,\n",
       "       14.90258026, 61.93343021, 94.95509081, 19.90586217,  4.89601644,\n",
       "        3.89536006, 18.90520579, 95.95574719, 61.93343021, 35.91636428,\n",
       "       14.90258026, 64.93539936, 13.90192388, 86.94983976, 68.93802488,\n",
       "       88.95115252, 50.92621001, 88.95115252, 26.91045685, 96.95640358,\n",
       "       57.93080468, 78.9445887 , 20.90651855, 92.95377805, 26.91045685,\n",
       "       98.95771634, 30.91308237, 32.91439514, 79.94524508, 27.91111323,\n",
       "       46.92358448, 52.92752277, 68.93802488, 27.91111323, 32.91439514,\n",
       "       90.95246528, 70.93933765, 49.92555363, 75.94261956,  3.89536006,\n",
       "       36.91702066, 69.93868127, 67.9373685 , 39.91898981, 34.9157079 ,\n",
       "       93.95443443, 87.95049614, 51.92686639, 30.91308237, 58.93146107,\n",
       "       -0.10726546, 38.91833343, 63.93474297, 68.93802488, 56.9301483 ,\n",
       "       12.9012675 , 71.93999403, 75.94261956, 60.93277383, 81.94655785,\n",
       "       17.90454941, 40.91964619, 49.92555363, 54.92883554, 12.9012675 ,\n",
       "       45.9229281 , 12.9012675 , 78.9445887 , 52.92752277, 14.90258026,\n",
       "       27.91111323, 80.94590147, 68.93802488, 51.92686639, 83.94787061,\n",
       "       67.9373685 , 26.91045685, 55.92949192, 47.92424086, 39.91898981,\n",
       "       38.91833343, 81.94655785, 99.95837272, 58.93146107, 42.92095896,\n",
       "       66.93671212, 37.91767705, 62.93408659, 90.95246528, 59.93211745,\n",
       "       13.90192388, 20.90651855, 86.94983976, 72.94065041, 31.91373876,\n",
       "        1.8940473 , 81.94655785, 18.90520579, 73.94130679, 41.92030257,\n",
       "       11.90061112,  0.89339092, 89.9518089 , 88.95115252, -0.10726546,\n",
       "       40.91964619, 15.90323665, 93.95443443, 96.95640358, 65.93605574,\n",
       "       23.9084877 , 16.90389303, 89.9518089 , 12.9012675 , -0.10726546,\n",
       "       63.93474297, 95.95574719, 97.95705996, 11.90061112, 40.91964619,\n",
       "       46.92358448, 77.94393232, 19.90586217, 88.95115252, 28.91176961,\n",
       "       63.93474297, 74.94196317, 11.90061112, 24.90914408, 27.91111323,\n",
       "       29.91242599, 64.93539936, 58.93146107, 63.93474297, 52.92752277,\n",
       "       70.93933765, 96.95640358, 72.94065041,  8.89864197, 11.90061112,\n",
       "       62.93408659, 98.95771634, 59.93211745, 34.9157079 ,  1.8940473 ,\n",
       "       59.93211745, 31.91373876, 93.95443443, 83.94787061, 62.93408659,\n",
       "       21.90717494, 80.94590147, 92.95377805, 32.91439514,  6.89732921,\n",
       "       41.92030257, 45.9229281 , 53.92817916, 15.90323665, 48.92489725,\n",
       "       42.92095896, 94.95509081, 65.93605574, 20.90651855, 34.9157079 ,\n",
       "       79.94524508, 36.91702066, 53.92817916, 55.92949192,  0.89339092,\n",
       "       31.91373876, 57.93080468, 31.91373876, 45.9229281 , 71.93999403,\n",
       "       16.90389303, 96.95640358, 92.95377805, 90.95246528, 36.91702066,\n",
       "        3.89536006, 53.92817916, 50.92621001, 26.91045685, 45.9229281 ,\n",
       "       91.95312167, 72.94065041, 76.94327594, 90.95246528, 60.93277383,\n",
       "       98.95771634,  3.89536006, 71.93999403, 18.90520579, 56.9301483 ,\n",
       "       77.94393232, 25.90980046, 73.94130679, 89.9518089 , 65.93605574,\n",
       "       12.9012675 , 39.91898981, 76.94327594, 66.93671212, 74.94196317,\n",
       "       22.90783132, 44.92227172, 58.93146107, 43.92161534, 22.90783132,\n",
       "       54.92883554, 54.92883554, 94.95509081, 11.90061112,  3.89536006,\n",
       "        6.89732921, 99.95837272, 47.92424086, 41.92030257, 95.95574719,\n",
       "       38.91833343, 99.95837272, 86.94983976, 13.90192388, 13.90192388,\n",
       "       36.91702066,  4.89601644, 87.95049614, 90.95246528, 64.93539936,\n",
       "       73.94130679, 55.92949192, 15.90323665,  4.89601644, 27.91111323,\n",
       "       91.95312167, 45.9229281 , 53.92817916, 38.91833343, 43.92161534,\n",
       "       30.91308237, 67.9373685 , 85.94918338, 89.9518089 , 37.91767705,\n",
       "       20.90651855, 94.95509081, 55.92949192, 59.93211745, 64.93539936,\n",
       "       77.94393232, 88.95115252,  5.89667283, 66.93671212, 35.91636428,\n",
       "       15.90323665, 99.95837272, 44.92227172, 72.94065041, 56.9301483 ,\n",
       "       19.90586217, 75.94261956, 33.91505152, 54.92883554, 71.93999403,\n",
       "       54.92883554,  7.89798559, 55.92949192, 71.93999403, 57.93080468,\n",
       "        5.89667283, 95.95574719, 22.90783132, 57.93080468, 22.90783132,\n",
       "       18.90520579, 24.90914408, 63.93474297, 20.90651855, 58.93146107,\n",
       "       18.90520579, 15.90323665, 41.92030257, 42.92095896, 60.93277383,\n",
       "       91.95312167, 10.89995474, 40.91964619,  0.89339092,  7.89798559,\n",
       "       70.93933765, 45.9229281 , 54.92883554, 61.93343021, 46.92358448])"
      ]
     },
     "execution_count": 17,
     "metadata": {},
     "output_type": "execute_result"
    }
   ],
   "source": [
    "predictions"
   ]
  },
  {
   "cell_type": "code",
   "execution_count": 18,
   "id": "037af135",
   "metadata": {},
   "outputs": [
    {
     "name": "stdout",
     "output_type": "stream",
     "text": [
      "R-squared: 0.9888014444327563\n"
     ]
    }
   ],
   "source": [
    "# Calculate R-squared (accuracy-like metric for regression)\n",
    "from sklearn.metrics import r2_score\n",
    "accuracy = r2_score(y_test, predictions)\n",
    "print(f\"R-squared: {accuracy}\")"
   ]
  },
  {
   "cell_type": "code",
   "execution_count": 19,
   "id": "b10b935f",
   "metadata": {
    "execution": {
     "iopub.execute_input": "2023-01-19T10:55:43.715759Z",
     "iopub.status.busy": "2023-01-19T10:55:43.715377Z",
     "iopub.status.idle": "2023-01-19T10:55:43.721288Z",
     "shell.execute_reply": "2023-01-19T10:55:43.719740Z"
    },
    "papermill": {
     "duration": 0.016351,
     "end_time": "2023-01-19T10:55:43.724143",
     "exception": false,
     "start_time": "2023-01-19T10:55:43.707792",
     "status": "completed"
    },
    "tags": []
   },
   "outputs": [],
   "source": [
    "mse = mean_squared_error(y_test, predictions) \n",
    "#Get the mean squared error as the evaluation metric"
   ]
  },
  {
   "cell_type": "code",
   "execution_count": 20,
   "id": "a60caf99",
   "metadata": {
    "execution": {
     "iopub.execute_input": "2023-01-19T10:55:43.738816Z",
     "iopub.status.busy": "2023-01-19T10:55:43.738464Z",
     "iopub.status.idle": "2023-01-19T10:55:43.743833Z",
     "shell.execute_reply": "2023-01-19T10:55:43.742438Z"
    },
    "papermill": {
     "duration": 0.015739,
     "end_time": "2023-01-19T10:55:43.746221",
     "exception": false,
     "start_time": "2023-01-19T10:55:43.730482",
     "status": "completed"
    },
    "tags": []
   },
   "outputs": [
    {
     "name": "stdout",
     "output_type": "stream",
     "text": [
      "the mean squared error is: 9.43292219203933\n"
     ]
    }
   ],
   "source": [
    "print(f'the mean squared error is: {mse}')"
   ]
  },
  {
   "cell_type": "code",
   "execution_count": null,
   "id": "9dfc3fbd",
   "metadata": {},
   "outputs": [],
   "source": []
  }
 ],
 "metadata": {
  "kernelspec": {
   "display_name": "Python 3 (ipykernel)",
   "language": "python",
   "name": "python3"
  },
  "language_info": {
   "codemirror_mode": {
    "name": "ipython",
    "version": 3
   },
   "file_extension": ".py",
   "mimetype": "text/x-python",
   "name": "python",
   "nbconvert_exporter": "python",
   "pygments_lexer": "ipython3",
   "version": "3.10.13"
  },
  "papermill": {
   "default_parameters": {},
   "duration": 11.740815,
   "end_time": "2023-01-19T10:55:44.700141",
   "environment_variables": {},
   "exception": null,
   "input_path": "__notebook__.ipynb",
   "output_path": "__notebook__.ipynb",
   "parameters": {},
   "start_time": "2023-01-19T10:55:32.959326",
   "version": "2.3.4"
  }
 },
 "nbformat": 4,
 "nbformat_minor": 5
}
